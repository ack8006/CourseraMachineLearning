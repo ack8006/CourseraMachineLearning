{
 "cells": [
  {
   "cell_type": "code",
   "execution_count": null,
   "metadata": {
    "collapsed": true
   },
   "outputs": [],
   "source": [
    "# %load ex1\n",
    "import numpy as np\n",
    "import scipy\n",
    "from matplotlib import pyplot, cm\n",
    "import copy\n",
    "\n",
    "def warm_up_exercises():\n",
    "    return np.identity(5)\n",
    "\n",
    "def part_2():\n",
    "    data = load_text_data('ex1data1.txt')\n",
    "    x,y = data[:,0], data[:,1]\n",
    "    m = len(y)\n",
    "    #plot(x,y)\n",
    "\n",
    "def part_3_gradient_descent():\n",
    "    data = load_text_data('ex1data1.txt')\n",
    "    X,y = data[:,0], data[:,1]\n",
    "    m = len(y)\n",
    "    X = np.hstack([np.ones((m,1)), X.reshape(m,1)])\n",
    "\n",
    "    theta = np.zeros((2,1))\n",
    "    iterations = 1500\n",
    "    alpha = 0.01\n",
    "\n",
    "    cost = compute_cost(X,y,theta)\n",
    "    theta = gradient_descent(X,y,theta,alpha,iterations)\n",
    "\n",
    "    print np.array([1,3.5]).dot(theta)\n",
    "    print np.array([1,7]).dot(theta)\n",
    "\n",
    "    #plot(X[:,1],y)\n",
    "    #pyplot.plot(X[:,1], X.dot(theta), 'b-')\n",
    "    #pyplot.show()\n",
    "\n",
    "def compute_cost(x,y,theta):\n",
    "    m = len(y)\n",
    "    sumed = sum(map(lambda a: (hypothesis(x[a], theta) - y[a])**2, range(m)))\n",
    "    return 1/(2*float(m)) * sumed\n",
    "\n",
    "def hypothesis(x, theta):\n",
    "    return x.dot(theta)\n",
    "\n",
    "def gradient_descent(X,y,theta, alpha, iterations):\n",
    "    m = len(y)\n",
    "    j_history = []\n",
    "\n",
    "    for it in xrange(iterations):\n",
    "        theta[0] -= alpha/float(m)*sum(map(lambda a: (hypothesis(X[a], theta)\n",
    "                                                  - y[a]), range(m)))\n",
    "        theta[1] -= alpha/float(m)*sum(map(lambda a: (hypothesis(X[a], theta)\n",
    "                                                  - y[a])*X[a,1], range(m)))\n",
    "        print theta\n",
    "    return theta\n",
    "\n",
    "def load_text_data(f):\n",
    "    return np.genfromtxt(f, delimiter=',')\n",
    "\n",
    "def plot(x, y):\n",
    "    pyplot.plot(x,y, 'rx', markersize=5)\n",
    "    pyplot.ylabel('Profit in $10,000s')\n",
    "    pyplot.xlabel('Population of City in 10,000s')\n",
    "    pyplot.show()\n",
    "\n",
    "\n",
    "\n",
    "\n",
    "if __name__ == '__main__':\n",
    "    warm_up_exercises()\n",
    "    part_2()\n",
    "    part_3_gradient_descent()\n",
    "\n",
    "\n"
   ]
  },
  {
   "cell_type": "code",
   "execution_count": 31,
   "metadata": {
    "collapsed": true
   },
   "outputs": [],
   "source": [
    "\n",
    "\n",
    "import numpy as np"
   ]
  },
  {
   "cell_type": "code",
   "execution_count": 24,
   "metadata": {
    "collapsed": false
   },
   "outputs": [],
   "source": [
    "X = np.array([[1,1],[1,2]])"
   ]
  },
  {
   "cell_type": "code",
   "execution_count": 48,
   "metadata": {
    "collapsed": true
   },
   "outputs": [],
   "source": [
    "def hypothesis(x, theta):\n",
    "    return x.dot(theta)\n",
    "\n",
    "def gradient_descent(X,y,theta, alpha, iterations):\n",
    "    m = len(y)\n",
    "    j_history = []\n",
    "\n",
    "    for it in xrange(iterations):\n",
    "        theta[0] -= alpha/float(m)*sum(map(lambda a: (hypothesis(X[a], theta)\n",
    "                                                  - y[a]), range(m)))\n",
    "        theta[1] -= alpha/float(m)*sum(map(lambda a: (hypothesis(X[a], theta)\n",
    "                                                  - y[a])*X[a,1], range(m)))\n",
    "        #print theta\n",
    "    return theta"
   ]
  },
  {
   "cell_type": "code",
   "execution_count": 49,
   "metadata": {
    "collapsed": false
   },
   "outputs": [
    {
     "data": {
      "text/plain": [
       "array([[1, 1],\n",
       "       [1, 2]])"
      ]
     },
     "execution_count": 49,
     "metadata": {},
     "output_type": "execute_result"
    }
   ],
   "source": [
    "X"
   ]
  },
  {
   "cell_type": "code",
   "execution_count": 50,
   "metadata": {
    "collapsed": false
   },
   "outputs": [
    {
     "data": {
      "text/plain": [
       "array([2, 4])"
      ]
     },
     "execution_count": 50,
     "metadata": {},
     "output_type": "execute_result"
    }
   ],
   "source": [
    "y = np.array([2,4])\n",
    "y"
   ]
  },
  {
   "cell_type": "code",
   "execution_count": 51,
   "metadata": {
    "collapsed": false
   },
   "outputs": [
    {
     "data": {
      "text/plain": [
       "array([  1.47413350e-05,   1.99999089e+00])"
      ]
     },
     "execution_count": 51,
     "metadata": {},
     "output_type": "execute_result"
    }
   ],
   "source": [
    "gradient_descent(X,y,np.zeros(2), 0.01, 15000)"
   ]
  },
  {
   "cell_type": "code",
   "execution_count": 43,
   "metadata": {
    "collapsed": false
   },
   "outputs": [
    {
     "data": {
      "text/plain": [
       "array([[1, 1],\n",
       "       [1, 2]])"
      ]
     },
     "execution_count": 43,
     "metadata": {},
     "output_type": "execute_result"
    }
   ],
   "source": [
    "X"
   ]
  },
  {
   "cell_type": "code",
   "execution_count": 44,
   "metadata": {
    "collapsed": false
   },
   "outputs": [
    {
     "data": {
      "text/plain": [
       "numpy.ndarray"
      ]
     },
     "execution_count": 44,
     "metadata": {},
     "output_type": "execute_result"
    }
   ],
   "source": [
    "type(X)"
   ]
  },
  {
   "cell_type": "code",
   "execution_count": null,
   "metadata": {
    "collapsed": true
   },
   "outputs": [],
   "source": []
  }
 ],
 "metadata": {
  "kernelspec": {
   "display_name": "Python 2",
   "language": "python",
   "name": "python2"
  },
  "language_info": {
   "codemirror_mode": {
    "name": "ipython",
    "version": 2
   },
   "file_extension": ".py",
   "mimetype": "text/x-python",
   "name": "python",
   "nbconvert_exporter": "python",
   "pygments_lexer": "ipython2",
   "version": "2.7.6"
  }
 },
 "nbformat": 4,
 "nbformat_minor": 0
}
