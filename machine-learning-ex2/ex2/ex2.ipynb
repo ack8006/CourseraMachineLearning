{
 "cells": [
  {
   "cell_type": "code",
   "execution_count": 156,
   "metadata": {
    "collapsed": true
   },
   "outputs": [],
   "source": [
    "import numpy as np\n",
    "import matplotlib.pyplot as plt\n",
    "import scipy.optimize\n",
    "%matplotlib inline"
   ]
  },
  {
   "cell_type": "code",
   "execution_count": 2,
   "metadata": {
    "collapsed": true
   },
   "outputs": [],
   "source": [
    "def load_text_data(f):\n",
    "    return np.genfromtxt(f, delimiter=',')"
   ]
  },
  {
   "cell_type": "code",
   "execution_count": 38,
   "metadata": {
    "collapsed": false
   },
   "outputs": [],
   "source": [
    "def part_one_one():\n",
    "    data = load_text_data('ex2data1.txt')\n",
    "    plotData(data)"
   ]
  },
  {
   "cell_type": "code",
   "execution_count": 60,
   "metadata": {
    "collapsed": true
   },
   "outputs": [],
   "source": [
    "def plotData(data):\n",
    "    zeros = data[data[:,2] == 0]\n",
    "    ones = data[data[:,2] == 1]\n",
    "    plt.xlabel('Exam 1 Score')\n",
    "    plt.ylabel('Exam 2 Score')\n",
    "\n",
    "    plt.scatter(zeros[:,0], zeros[:,1], marker='+', label='NotAdmitted')\n",
    "    plt.scatter(ones[:,0], ones[:,1], marker='o', label='Admitted')\n",
    "    \n",
    "    plt.legend()"
   ]
  },
  {
   "cell_type": "code",
   "execution_count": 255,
   "metadata": {
    "collapsed": false
   },
   "outputs": [],
   "source": [
    "def logistic_hypothesis(theta, X):\n",
    "    theta = np.reshape(theta, (len(X),1))\n",
    "    return sigmoid(X.dot(theta))\n",
    "\n",
    "def sigmoid(z):\n",
    "    return 1/(1+np.exp(-z))\n",
    "\n",
    "def cost_function(theta, X, y):\n",
    "    def inner(x,y):\n",
    "        hypo = logistic_hypothesis(theta, x)\n",
    "        half_1 = np.log(hypo).dot(-y)\n",
    "        half_2 = np.log(1-hypo).dot(1-y)\n",
    "        return half_1 - half_2\n",
    "\n",
    "    m = len(y)\n",
    "    total = sum(map(lambda a: inner(X[a],y[a]), xrange(m)))\n",
    "    return total/m\n",
    "\n",
    "def get_function_min(theta, X, y):\n",
    "    result = scipy.optimize.fmin( cost_function, x0=theta, args=(X, y), maxiter=400, full_output=True )\n",
    "    return result[0], result[1]\n",
    "    "
   ]
  },
  {
   "cell_type": "code",
   "execution_count": 256,
   "metadata": {
    "collapsed": true
   },
   "outputs": [],
   "source": [
    "def predict(theta, X):\n",
    "    return sigmoid(theta.dot(X))"
   ]
  },
  {
   "cell_type": "code",
   "execution_count": 257,
   "metadata": {
    "collapsed": false
   },
   "outputs": [],
   "source": [
    "def part_one_two():\n",
    "    data = load_text_data('ex2data1.txt')\n",
    "    m,n = np.shape(data)\n",
    "    n -= 1\n",
    "    X,y = np.hstack([np.ones((m,1)),data[:,:n]]), data[:,n:]\n",
    "\n",
    "    initial_theta = np.zeros((n+1, 1))\n",
    "\n",
    "    print 'Cost at initial theta: ' + str(cost_function(initial_theta, X, y))\n",
    "\n",
    "    theta, cost = get_function_min(initial_theta, X, y)\n",
    "    print theta\n",
    "    print cost\n",
    "    \n",
    "    print predict(theta, np.array([1,45,85]))\n",
    "    "
   ]
  },
  {
   "cell_type": "code",
   "execution_count": 258,
   "metadata": {
    "collapsed": false
   },
   "outputs": [
    {
     "name": "stdout",
     "output_type": "stream",
     "text": [
      "Cost at initial theta: 0.69314718056\n",
      "Optimization terminated successfully.\n",
      "         Current function value: 0.203498\n",
      "         Iterations: 157\n",
      "         Function evaluations: 287\n",
      "[-25.16130062   0.20623142   0.20147143]\n",
      "0.20349770159\n",
      "0.776291590411\n"
     ]
    }
   ],
   "source": [
    "part_one_two()"
   ]
  },
  {
   "cell_type": "code",
   "execution_count": null,
   "metadata": {
    "collapsed": false
   },
   "outputs": [],
   "source": []
  },
  {
   "cell_type": "code",
   "execution_count": null,
   "metadata": {
    "collapsed": true
   },
   "outputs": [],
   "source": []
  }
 ],
 "metadata": {
  "kernelspec": {
   "display_name": "Python 2",
   "language": "python",
   "name": "python2"
  },
  "language_info": {
   "codemirror_mode": {
    "name": "ipython",
    "version": 2
   },
   "file_extension": ".py",
   "mimetype": "text/x-python",
   "name": "python",
   "nbconvert_exporter": "python",
   "pygments_lexer": "ipython2",
   "version": "2.7.6"
  }
 },
 "nbformat": 4,
 "nbformat_minor": 0
}
